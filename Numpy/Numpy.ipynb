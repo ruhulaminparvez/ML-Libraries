{
  "nbformat": 4,
  "nbformat_minor": 0,
  "metadata": {
    "colab": {
      "name": "Numpy.ipynb",
      "provenance": []
    },
    "kernelspec": {
      "name": "python3",
      "display_name": "Python 3"
    },
    "language_info": {
      "name": "python"
    }
  },
  "cells": [
    {
      "cell_type": "code",
      "execution_count": null,
      "metadata": {
        "id": "mtcezxPpHXjj"
      },
      "outputs": [],
      "source": [
        "import numpy as np"
      ]
    },
    {
      "cell_type": "code",
      "source": [
        "a = np.array([1,2,3], dtype='int32')\n",
        "print(a)"
      ],
      "metadata": {
        "colab": {
          "base_uri": "https://localhost:8080/"
        },
        "id": "5CQfs52fK_PL",
        "outputId": "32d02411-cb61-44a9-cd16-c450b7c9c09c"
      },
      "execution_count": null,
      "outputs": [
        {
          "output_type": "stream",
          "name": "stdout",
          "text": [
            "[1 2 3]\n"
          ]
        }
      ]
    },
    {
      "cell_type": "code",
      "source": [
        "b = np.array([[4.0, 5.0, 6.0],[7.0, 8.0, 9.0]])\n",
        "print(b)"
      ],
      "metadata": {
        "colab": {
          "base_uri": "https://localhost:8080/"
        },
        "id": "JmAgbtjhLG77",
        "outputId": "ae4ef9b7-65a0-47a0-c31a-73d4c69e0ea5"
      },
      "execution_count": null,
      "outputs": [
        {
          "output_type": "stream",
          "name": "stdout",
          "text": [
            "[[4. 5. 6.]\n",
            " [7. 8. 9.]]\n"
          ]
        }
      ]
    },
    {
      "cell_type": "markdown",
      "source": [
        "###Get Dimension"
      ],
      "metadata": {
        "id": "mNXNKR71MwYo"
      }
    },
    {
      "cell_type": "code",
      "source": [
        "a.ndim"
      ],
      "metadata": {
        "colab": {
          "base_uri": "https://localhost:8080/"
        },
        "id": "2zNANb9CLcHT",
        "outputId": "9a63390c-4924-48a2-8976-2743dc43a2ec"
      },
      "execution_count": null,
      "outputs": [
        {
          "output_type": "execute_result",
          "data": {
            "text/plain": [
              "1"
            ]
          },
          "metadata": {},
          "execution_count": 5
        }
      ]
    },
    {
      "cell_type": "code",
      "source": [
        "b.ndim"
      ],
      "metadata": {
        "colab": {
          "base_uri": "https://localhost:8080/"
        },
        "id": "L1E84yBBLjgG",
        "outputId": "ef019274-c110-4fed-a9b4-81349fc9c88d"
      },
      "execution_count": null,
      "outputs": [
        {
          "output_type": "execute_result",
          "data": {
            "text/plain": [
              "2"
            ]
          },
          "metadata": {},
          "execution_count": 6
        }
      ]
    },
    {
      "cell_type": "markdown",
      "source": [
        "###Get Shape"
      ],
      "metadata": {
        "id": "lk8H196eMngk"
      }
    },
    {
      "cell_type": "code",
      "source": [
        "a.shape"
      ],
      "metadata": {
        "colab": {
          "base_uri": "https://localhost:8080/"
        },
        "id": "dyXj6cuzLm_C",
        "outputId": "d16e72a4-19d3-4669-c26e-d50e3d33e687"
      },
      "execution_count": null,
      "outputs": [
        {
          "output_type": "execute_result",
          "data": {
            "text/plain": [
              "(3,)"
            ]
          },
          "metadata": {},
          "execution_count": 7
        }
      ]
    },
    {
      "cell_type": "code",
      "source": [
        "b.shape"
      ],
      "metadata": {
        "colab": {
          "base_uri": "https://localhost:8080/"
        },
        "id": "Lhf5spe7LvpF",
        "outputId": "859bc19b-bc89-476d-93ba-30a26a35c9b5"
      },
      "execution_count": null,
      "outputs": [
        {
          "output_type": "execute_result",
          "data": {
            "text/plain": [
              "(2, 3)"
            ]
          },
          "metadata": {},
          "execution_count": 8
        }
      ]
    },
    {
      "cell_type": "markdown",
      "source": [
        "###Get Type"
      ],
      "metadata": {
        "id": "DiPLZlpPMiay"
      }
    },
    {
      "cell_type": "code",
      "source": [
        "a.dtype"
      ],
      "metadata": {
        "colab": {
          "base_uri": "https://localhost:8080/"
        },
        "id": "k3TMRVm-L-WH",
        "outputId": "91b61489-e09c-4b7a-ed29-ab237e2937f8"
      },
      "execution_count": null,
      "outputs": [
        {
          "output_type": "execute_result",
          "data": {
            "text/plain": [
              "dtype('int32')"
            ]
          },
          "metadata": {},
          "execution_count": 21
        }
      ]
    },
    {
      "cell_type": "code",
      "source": [
        "b.dtype"
      ],
      "metadata": {
        "colab": {
          "base_uri": "https://localhost:8080/"
        },
        "id": "05cmuerEMJd1",
        "outputId": "bd3ec59d-d24a-4e17-c1ec-a90ab0dc1f0a"
      },
      "execution_count": null,
      "outputs": [
        {
          "output_type": "execute_result",
          "data": {
            "text/plain": [
              "dtype('float64')"
            ]
          },
          "metadata": {},
          "execution_count": 20
        }
      ]
    },
    {
      "cell_type": "markdown",
      "source": [
        "###Get Item Size (Byte)"
      ],
      "metadata": {
        "id": "z9AjgieiM2Pw"
      }
    },
    {
      "cell_type": "code",
      "source": [
        "a.itemsize"
      ],
      "metadata": {
        "colab": {
          "base_uri": "https://localhost:8080/"
        },
        "id": "n77nDlGzM5pU",
        "outputId": "5dcc598a-6949-4ea7-e186-a7b6655a333c"
      },
      "execution_count": null,
      "outputs": [
        {
          "output_type": "execute_result",
          "data": {
            "text/plain": [
              "4"
            ]
          },
          "metadata": {},
          "execution_count": 19
        }
      ]
    },
    {
      "cell_type": "code",
      "source": [
        "b.itemsize"
      ],
      "metadata": {
        "colab": {
          "base_uri": "https://localhost:8080/"
        },
        "id": "5WlqHAdWNcPi",
        "outputId": "c5e2dd23-29b8-42bb-dbb1-192cffbb030f"
      },
      "execution_count": null,
      "outputs": [
        {
          "output_type": "execute_result",
          "data": {
            "text/plain": [
              "8"
            ]
          },
          "metadata": {},
          "execution_count": 23
        }
      ]
    },
    {
      "cell_type": "markdown",
      "source": [
        "###Get total size"
      ],
      "metadata": {
        "id": "VVNiZGi-NWnE"
      }
    },
    {
      "cell_type": "code",
      "source": [
        "a.size * a.itemsize\n",
        "#or\n",
        "a.nbytes"
      ],
      "metadata": {
        "colab": {
          "base_uri": "https://localhost:8080/"
        },
        "id": "Y1233uvoNZET",
        "outputId": "dc895217-815b-4ea9-c57b-02bc95d89ffe"
      },
      "execution_count": null,
      "outputs": [
        {
          "output_type": "execute_result",
          "data": {
            "text/plain": [
              "12"
            ]
          },
          "metadata": {},
          "execution_count": 27
        }
      ]
    },
    {
      "cell_type": "code",
      "source": [
        "b.size * b.itemsize\n",
        "#or\n",
        "b.nbytes"
      ],
      "metadata": {
        "colab": {
          "base_uri": "https://localhost:8080/"
        },
        "id": "yFm6RqUjNf4D",
        "outputId": "99fb5b26-8d45-40a2-c0d8-473567f7675e"
      },
      "execution_count": null,
      "outputs": [
        {
          "output_type": "execute_result",
          "data": {
            "text/plain": [
              "48"
            ]
          },
          "metadata": {},
          "execution_count": 28
        }
      ]
    },
    {
      "cell_type": "markdown",
      "source": [
        "#Accessing/Changing Specific Elements, Rows, Columns etc.."
      ],
      "metadata": {
        "id": "ddOeSNcUPGmy"
      }
    },
    {
      "cell_type": "code",
      "source": [
        "c = np.array([[1,2,3,4,5,6,7],[8,9,10,11,12,13,14]])\n",
        "print(c)"
      ],
      "metadata": {
        "colab": {
          "base_uri": "https://localhost:8080/"
        },
        "id": "wfVc1DbePTKH",
        "outputId": "ff2ae034-59ed-4007-d06e-83d2f841323f"
      },
      "execution_count": null,
      "outputs": [
        {
          "output_type": "stream",
          "name": "stdout",
          "text": [
            "[[ 1  2  3  4  5  6  7]\n",
            " [ 8  9 10 11 12 13 14]]\n"
          ]
        }
      ]
    },
    {
      "cell_type": "code",
      "source": [
        "#Shape\n",
        "c.shape"
      ],
      "metadata": {
        "colab": {
          "base_uri": "https://localhost:8080/"
        },
        "id": "qwcUCi2xP1_Q",
        "outputId": "861f3852-efdd-4a1a-c1b9-fcd88504c396"
      },
      "execution_count": null,
      "outputs": [
        {
          "output_type": "execute_result",
          "data": {
            "text/plain": [
              "(2, 7)"
            ]
          },
          "metadata": {},
          "execution_count": 30
        }
      ]
    },
    {
      "cell_type": "markdown",
      "source": [
        "###Get Specific Element. Rule --> [row, column]"
      ],
      "metadata": {
        "id": "2oyL3FUkP6ey"
      }
    },
    {
      "cell_type": "code",
      "source": [
        "c[0,-2]"
      ],
      "metadata": {
        "colab": {
          "base_uri": "https://localhost:8080/"
        },
        "id": "e04qdPmFQQM3",
        "outputId": "948251c3-5727-4e01-f9dd-b98704060abb"
      },
      "execution_count": null,
      "outputs": [
        {
          "output_type": "execute_result",
          "data": {
            "text/plain": [
              "6"
            ]
          },
          "metadata": {},
          "execution_count": 32
        }
      ]
    },
    {
      "cell_type": "markdown",
      "source": [
        "###Get Specific Row"
      ],
      "metadata": {
        "id": "g5KK48spRDU5"
      }
    },
    {
      "cell_type": "code",
      "source": [
        "c[1, :]"
      ],
      "metadata": {
        "colab": {
          "base_uri": "https://localhost:8080/"
        },
        "id": "8qwIn4GGRK4-",
        "outputId": "946b9c71-a826-4561-ffb2-751de07ccf33"
      },
      "execution_count": null,
      "outputs": [
        {
          "output_type": "execute_result",
          "data": {
            "text/plain": [
              "array([ 8,  9, 10, 11, 12, 13, 14])"
            ]
          },
          "metadata": {},
          "execution_count": 33
        }
      ]
    },
    {
      "cell_type": "markdown",
      "source": [
        "###Get Specific Column"
      ],
      "metadata": {
        "id": "oYf166emRiCP"
      }
    },
    {
      "cell_type": "code",
      "source": [
        "c[:, 5]"
      ],
      "metadata": {
        "colab": {
          "base_uri": "https://localhost:8080/"
        },
        "id": "HgCa1hOtRa23",
        "outputId": "5c2ac5b1-90a5-4221-8bbc-c0ac9d2175f6"
      },
      "execution_count": null,
      "outputs": [
        {
          "output_type": "execute_result",
          "data": {
            "text/plain": [
              "array([ 6, 13])"
            ]
          },
          "metadata": {},
          "execution_count": 34
        }
      ]
    },
    {
      "cell_type": "markdown",
      "source": [
        "###Getting a little bit fancy [start:end:step]"
      ],
      "metadata": {
        "id": "-YBGbVjsSFjx"
      }
    },
    {
      "cell_type": "code",
      "source": [
        "c[1, 2:-1:1]"
      ],
      "metadata": {
        "colab": {
          "base_uri": "https://localhost:8080/"
        },
        "id": "leMoSfxVSMop",
        "outputId": "9ddeb50e-5ec3-4a85-d4f2-bb87ad4792a5"
      },
      "execution_count": null,
      "outputs": [
        {
          "output_type": "execute_result",
          "data": {
            "text/plain": [
              "array([10, 11, 12, 13])"
            ]
          },
          "metadata": {},
          "execution_count": 38
        }
      ]
    }
  ]
}