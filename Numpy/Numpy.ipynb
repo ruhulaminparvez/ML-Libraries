{
  "nbformat": 4,
  "nbformat_minor": 0,
  "metadata": {
    "colab": {
      "name": "Numpy.ipynb",
      "provenance": []
    },
    "kernelspec": {
      "name": "python3",
      "display_name": "Python 3"
    },
    "language_info": {
      "name": "python"
    }
  },
  "cells": [
    {
      "cell_type": "code",
      "execution_count": 2,
      "metadata": {
        "id": "mtcezxPpHXjj"
      },
      "outputs": [],
      "source": [
        "import numpy as np"
      ]
    },
    {
      "cell_type": "code",
      "source": [
        "a = np.array([1,2,3], dtype='int32')\n",
        "print(a)"
      ],
      "metadata": {
        "colab": {
          "base_uri": "https://localhost:8080/"
        },
        "id": "5CQfs52fK_PL",
        "outputId": "32d02411-cb61-44a9-cd16-c450b7c9c09c"
      },
      "execution_count": null,
      "outputs": [
        {
          "output_type": "stream",
          "name": "stdout",
          "text": [
            "[1 2 3]\n"
          ]
        }
      ]
    },
    {
      "cell_type": "code",
      "source": [
        "b = np.array([[4.0, 5.0, 6.0],[7.0, 8.0, 9.0]])\n",
        "print(b)"
      ],
      "metadata": {
        "colab": {
          "base_uri": "https://localhost:8080/"
        },
        "id": "JmAgbtjhLG77",
        "outputId": "ae4ef9b7-65a0-47a0-c31a-73d4c69e0ea5"
      },
      "execution_count": null,
      "outputs": [
        {
          "output_type": "stream",
          "name": "stdout",
          "text": [
            "[[4. 5. 6.]\n",
            " [7. 8. 9.]]\n"
          ]
        }
      ]
    },
    {
      "cell_type": "markdown",
      "source": [
        "###Get Dimension"
      ],
      "metadata": {
        "id": "mNXNKR71MwYo"
      }
    },
    {
      "cell_type": "code",
      "source": [
        "a.ndim"
      ],
      "metadata": {
        "colab": {
          "base_uri": "https://localhost:8080/"
        },
        "id": "2zNANb9CLcHT",
        "outputId": "9a63390c-4924-48a2-8976-2743dc43a2ec"
      },
      "execution_count": null,
      "outputs": [
        {
          "output_type": "execute_result",
          "data": {
            "text/plain": [
              "1"
            ]
          },
          "metadata": {},
          "execution_count": 5
        }
      ]
    },
    {
      "cell_type": "code",
      "source": [
        "b.ndim"
      ],
      "metadata": {
        "colab": {
          "base_uri": "https://localhost:8080/"
        },
        "id": "L1E84yBBLjgG",
        "outputId": "ef019274-c110-4fed-a9b4-81349fc9c88d"
      },
      "execution_count": null,
      "outputs": [
        {
          "output_type": "execute_result",
          "data": {
            "text/plain": [
              "2"
            ]
          },
          "metadata": {},
          "execution_count": 6
        }
      ]
    },
    {
      "cell_type": "markdown",
      "source": [
        "###Get Shape"
      ],
      "metadata": {
        "id": "lk8H196eMngk"
      }
    },
    {
      "cell_type": "code",
      "source": [
        "a.shape"
      ],
      "metadata": {
        "colab": {
          "base_uri": "https://localhost:8080/"
        },
        "id": "dyXj6cuzLm_C",
        "outputId": "d16e72a4-19d3-4669-c26e-d50e3d33e687"
      },
      "execution_count": null,
      "outputs": [
        {
          "output_type": "execute_result",
          "data": {
            "text/plain": [
              "(3,)"
            ]
          },
          "metadata": {},
          "execution_count": 7
        }
      ]
    },
    {
      "cell_type": "code",
      "source": [
        "b.shape"
      ],
      "metadata": {
        "colab": {
          "base_uri": "https://localhost:8080/"
        },
        "id": "Lhf5spe7LvpF",
        "outputId": "859bc19b-bc89-476d-93ba-30a26a35c9b5"
      },
      "execution_count": null,
      "outputs": [
        {
          "output_type": "execute_result",
          "data": {
            "text/plain": [
              "(2, 3)"
            ]
          },
          "metadata": {},
          "execution_count": 8
        }
      ]
    },
    {
      "cell_type": "markdown",
      "source": [
        "###Get Type"
      ],
      "metadata": {
        "id": "DiPLZlpPMiay"
      }
    },
    {
      "cell_type": "code",
      "source": [
        "a.dtype"
      ],
      "metadata": {
        "colab": {
          "base_uri": "https://localhost:8080/"
        },
        "id": "k3TMRVm-L-WH",
        "outputId": "91b61489-e09c-4b7a-ed29-ab237e2937f8"
      },
      "execution_count": null,
      "outputs": [
        {
          "output_type": "execute_result",
          "data": {
            "text/plain": [
              "dtype('int32')"
            ]
          },
          "metadata": {},
          "execution_count": 21
        }
      ]
    },
    {
      "cell_type": "code",
      "source": [
        "b.dtype"
      ],
      "metadata": {
        "colab": {
          "base_uri": "https://localhost:8080/"
        },
        "id": "05cmuerEMJd1",
        "outputId": "bd3ec59d-d24a-4e17-c1ec-a90ab0dc1f0a"
      },
      "execution_count": null,
      "outputs": [
        {
          "output_type": "execute_result",
          "data": {
            "text/plain": [
              "dtype('float64')"
            ]
          },
          "metadata": {},
          "execution_count": 20
        }
      ]
    },
    {
      "cell_type": "markdown",
      "source": [
        "###Get Item Size (Byte)"
      ],
      "metadata": {
        "id": "z9AjgieiM2Pw"
      }
    },
    {
      "cell_type": "code",
      "source": [
        "a.itemsize"
      ],
      "metadata": {
        "colab": {
          "base_uri": "https://localhost:8080/"
        },
        "id": "n77nDlGzM5pU",
        "outputId": "5dcc598a-6949-4ea7-e186-a7b6655a333c"
      },
      "execution_count": null,
      "outputs": [
        {
          "output_type": "execute_result",
          "data": {
            "text/plain": [
              "4"
            ]
          },
          "metadata": {},
          "execution_count": 19
        }
      ]
    },
    {
      "cell_type": "code",
      "source": [
        "b.itemsize"
      ],
      "metadata": {
        "colab": {
          "base_uri": "https://localhost:8080/"
        },
        "id": "5WlqHAdWNcPi",
        "outputId": "c5e2dd23-29b8-42bb-dbb1-192cffbb030f"
      },
      "execution_count": null,
      "outputs": [
        {
          "output_type": "execute_result",
          "data": {
            "text/plain": [
              "8"
            ]
          },
          "metadata": {},
          "execution_count": 23
        }
      ]
    },
    {
      "cell_type": "markdown",
      "source": [
        "###Get total size"
      ],
      "metadata": {
        "id": "VVNiZGi-NWnE"
      }
    },
    {
      "cell_type": "code",
      "source": [
        "a.size * a.itemsize\n",
        "#or\n",
        "a.nbytes"
      ],
      "metadata": {
        "colab": {
          "base_uri": "https://localhost:8080/"
        },
        "id": "Y1233uvoNZET",
        "outputId": "dc895217-815b-4ea9-c57b-02bc95d89ffe"
      },
      "execution_count": null,
      "outputs": [
        {
          "output_type": "execute_result",
          "data": {
            "text/plain": [
              "12"
            ]
          },
          "metadata": {},
          "execution_count": 27
        }
      ]
    },
    {
      "cell_type": "code",
      "source": [
        "b.size * b.itemsize\n",
        "#or\n",
        "b.nbytes"
      ],
      "metadata": {
        "colab": {
          "base_uri": "https://localhost:8080/"
        },
        "id": "yFm6RqUjNf4D",
        "outputId": "99fb5b26-8d45-40a2-c0d8-473567f7675e"
      },
      "execution_count": null,
      "outputs": [
        {
          "output_type": "execute_result",
          "data": {
            "text/plain": [
              "48"
            ]
          },
          "metadata": {},
          "execution_count": 28
        }
      ]
    },
    {
      "cell_type": "markdown",
      "source": [
        "#Accessing/Changing Specific Elements, Rows, Columns etc.."
      ],
      "metadata": {
        "id": "ddOeSNcUPGmy"
      }
    },
    {
      "cell_type": "code",
      "source": [
        "c = np.array([[1,2,3,4,5,6,7],[8,9,10,11,12,13,14]])\n",
        "print(c)"
      ],
      "metadata": {
        "colab": {
          "base_uri": "https://localhost:8080/"
        },
        "id": "wfVc1DbePTKH",
        "outputId": "bd28ab00-47cf-4b6b-ff62-4853497cf677"
      },
      "execution_count": 3,
      "outputs": [
        {
          "output_type": "stream",
          "name": "stdout",
          "text": [
            "[[ 1  2  3  4  5  6  7]\n",
            " [ 8  9 10 11 12 13 14]]\n"
          ]
        }
      ]
    },
    {
      "cell_type": "code",
      "source": [
        "#Shape\n",
        "c.shape"
      ],
      "metadata": {
        "colab": {
          "base_uri": "https://localhost:8080/"
        },
        "id": "qwcUCi2xP1_Q",
        "outputId": "08a7fac3-c04f-4f75-820a-516127e3b842"
      },
      "execution_count": 4,
      "outputs": [
        {
          "output_type": "execute_result",
          "data": {
            "text/plain": [
              "(2, 7)"
            ]
          },
          "metadata": {},
          "execution_count": 4
        }
      ]
    },
    {
      "cell_type": "markdown",
      "source": [
        "###Get Specific Element. Rule --> [row, column]"
      ],
      "metadata": {
        "id": "2oyL3FUkP6ey"
      }
    },
    {
      "cell_type": "code",
      "source": [
        "c[0,-2]"
      ],
      "metadata": {
        "colab": {
          "base_uri": "https://localhost:8080/"
        },
        "id": "e04qdPmFQQM3",
        "outputId": "0c6348b3-a5aa-46fb-ffb8-69bad37bb258"
      },
      "execution_count": 5,
      "outputs": [
        {
          "output_type": "execute_result",
          "data": {
            "text/plain": [
              "6"
            ]
          },
          "metadata": {},
          "execution_count": 5
        }
      ]
    },
    {
      "cell_type": "markdown",
      "source": [
        "###Get Specific Row"
      ],
      "metadata": {
        "id": "g5KK48spRDU5"
      }
    },
    {
      "cell_type": "code",
      "source": [
        "c[1, :]"
      ],
      "metadata": {
        "colab": {
          "base_uri": "https://localhost:8080/"
        },
        "id": "8qwIn4GGRK4-",
        "outputId": "fe0d18c6-986e-4696-f635-06a454ba47cd"
      },
      "execution_count": 6,
      "outputs": [
        {
          "output_type": "execute_result",
          "data": {
            "text/plain": [
              "array([ 8,  9, 10, 11, 12, 13, 14])"
            ]
          },
          "metadata": {},
          "execution_count": 6
        }
      ]
    },
    {
      "cell_type": "markdown",
      "source": [
        "###Get Specific Column"
      ],
      "metadata": {
        "id": "oYf166emRiCP"
      }
    },
    {
      "cell_type": "code",
      "source": [
        "c[:, 5]"
      ],
      "metadata": {
        "colab": {
          "base_uri": "https://localhost:8080/"
        },
        "id": "HgCa1hOtRa23",
        "outputId": "e90efcd7-88be-4ef0-bd28-69cfacd78bf9"
      },
      "execution_count": 7,
      "outputs": [
        {
          "output_type": "execute_result",
          "data": {
            "text/plain": [
              "array([ 6, 13])"
            ]
          },
          "metadata": {},
          "execution_count": 7
        }
      ]
    },
    {
      "cell_type": "markdown",
      "source": [
        "###Getting a little bit fancy [start:end:step]"
      ],
      "metadata": {
        "id": "-YBGbVjsSFjx"
      }
    },
    {
      "cell_type": "code",
      "source": [
        "c[1, 2:-1:1]"
      ],
      "metadata": {
        "colab": {
          "base_uri": "https://localhost:8080/"
        },
        "id": "leMoSfxVSMop",
        "outputId": "97c90ace-6c93-4845-bd77-6302fd1336af"
      },
      "execution_count": 8,
      "outputs": [
        {
          "output_type": "execute_result",
          "data": {
            "text/plain": [
              "array([10, 11, 12, 13])"
            ]
          },
          "metadata": {},
          "execution_count": 8
        }
      ]
    },
    {
      "cell_type": "markdown",
      "source": [
        "###Change Specific Value"
      ],
      "metadata": {
        "id": "iOZ-zJvzyEyn"
      }
    },
    {
      "cell_type": "code",
      "source": [
        "c[1,6] = 15\n",
        "print(c)"
      ],
      "metadata": {
        "colab": {
          "base_uri": "https://localhost:8080/"
        },
        "id": "kX_xZ6HYxiEL",
        "outputId": "8ba584f2-fe5c-4139-d1ef-e95404fee3fa"
      },
      "execution_count": 10,
      "outputs": [
        {
          "output_type": "stream",
          "name": "stdout",
          "text": [
            "[[ 1  2  3  4  5  6  7]\n",
            " [ 8  9 10 11 12 13 15]]\n"
          ]
        }
      ]
    },
    {
      "cell_type": "markdown",
      "source": [
        "###Change Specific Column Value"
      ],
      "metadata": {
        "id": "pBtSd2xnyLgI"
      }
    },
    {
      "cell_type": "code",
      "source": [
        "c[:,6] = [8,16]\n",
        "print(c)"
      ],
      "metadata": {
        "colab": {
          "base_uri": "https://localhost:8080/"
        },
        "id": "iO_baVuRxrgC",
        "outputId": "ddbdbccf-91a5-4a4d-ea9b-4aa3ea402ad6"
      },
      "execution_count": 11,
      "outputs": [
        {
          "output_type": "stream",
          "name": "stdout",
          "text": [
            "[[ 1  2  3  4  5  6  8]\n",
            " [ 8  9 10 11 12 13 16]]\n"
          ]
        }
      ]
    },
    {
      "cell_type": "markdown",
      "source": [
        "##3D Array Example"
      ],
      "metadata": {
        "id": "qYCZzlSTyWwE"
      }
    },
    {
      "cell_type": "markdown",
      "source": [
        "###Get Specific Element (Work Outside In)"
      ],
      "metadata": {
        "id": "tym69GtOz9IM"
      }
    },
    {
      "cell_type": "code",
      "source": [
        "d = np.array([[[1,2,3],[4,5,6]],[[7,8,9],[10,11,12]]])\n",
        "print(d)"
      ],
      "metadata": {
        "colab": {
          "base_uri": "https://localhost:8080/"
        },
        "id": "esmYbBjryQuH",
        "outputId": "058f9d52-7d2f-47b6-c52c-f8ef40f1392a"
      },
      "execution_count": 15,
      "outputs": [
        {
          "output_type": "stream",
          "name": "stdout",
          "text": [
            "[[[ 1  2  3]\n",
            "  [ 4  5  6]]\n",
            "\n",
            " [[ 7  8  9]\n",
            "  [10 11 12]]]\n"
          ]
        }
      ]
    },
    {
      "cell_type": "code",
      "source": [
        "d.ndim"
      ],
      "metadata": {
        "colab": {
          "base_uri": "https://localhost:8080/"
        },
        "id": "5oa_eIkky-L1",
        "outputId": "30e86438-646b-4e58-aa6f-6b1eb799ff52"
      },
      "execution_count": 16,
      "outputs": [
        {
          "output_type": "execute_result",
          "data": {
            "text/plain": [
              "3"
            ]
          },
          "metadata": {},
          "execution_count": 16
        }
      ]
    },
    {
      "cell_type": "code",
      "source": [
        "d[:,0,1]"
      ],
      "metadata": {
        "colab": {
          "base_uri": "https://localhost:8080/"
        },
        "id": "Z6jUPVcRzkUO",
        "outputId": "2e5bbde1-a179-4d9a-d9e5-423b2c4d5380"
      },
      "execution_count": 20,
      "outputs": [
        {
          "output_type": "execute_result",
          "data": {
            "text/plain": [
              "array([2, 8])"
            ]
          },
          "metadata": {},
          "execution_count": 20
        }
      ]
    },
    {
      "cell_type": "code",
      "source": [
        "d[0,1,1]"
      ],
      "metadata": {
        "colab": {
          "base_uri": "https://localhost:8080/"
        },
        "id": "ZB6aWhzK0HLP",
        "outputId": "0173633d-bed4-4e5d-8e39-82b00759403c"
      },
      "execution_count": 21,
      "outputs": [
        {
          "output_type": "execute_result",
          "data": {
            "text/plain": [
              "5"
            ]
          },
          "metadata": {},
          "execution_count": 21
        }
      ]
    },
    {
      "cell_type": "code",
      "source": [
        "d[1,0,2]"
      ],
      "metadata": {
        "colab": {
          "base_uri": "https://localhost:8080/"
        },
        "id": "YL6oFqMm0L2y",
        "outputId": "751b08a0-c22d-42ea-fd19-4f957aa340f8"
      },
      "execution_count": 22,
      "outputs": [
        {
          "output_type": "execute_result",
          "data": {
            "text/plain": [
              "9"
            ]
          },
          "metadata": {},
          "execution_count": 22
        }
      ]
    },
    {
      "cell_type": "markdown",
      "source": [
        "###Replace"
      ],
      "metadata": {
        "id": "Sr8SmaKF0itc"
      }
    },
    {
      "cell_type": "code",
      "source": [
        "d"
      ],
      "metadata": {
        "colab": {
          "base_uri": "https://localhost:8080/"
        },
        "id": "al6M6HCn0lQF",
        "outputId": "d4de1f62-5973-49dd-e814-f26210bd8a6c"
      },
      "execution_count": 23,
      "outputs": [
        {
          "output_type": "execute_result",
          "data": {
            "text/plain": [
              "array([[[ 1,  2,  3],\n",
              "        [ 4,  5,  6]],\n",
              "\n",
              "       [[ 7,  8,  9],\n",
              "        [10, 11, 12]]])"
            ]
          },
          "metadata": {},
          "execution_count": 23
        }
      ]
    },
    {
      "cell_type": "code",
      "source": [
        "d[:,:,2] = [[0, 0],[0, 0]]"
      ],
      "metadata": {
        "id": "aa7y3Q9f0qYs"
      },
      "execution_count": 25,
      "outputs": []
    },
    {
      "cell_type": "code",
      "source": [
        "d"
      ],
      "metadata": {
        "colab": {
          "base_uri": "https://localhost:8080/"
        },
        "id": "kJjV0FTh0-Ss",
        "outputId": "2e43f8b9-0b46-48b6-8886-0b1477d17bf2"
      },
      "execution_count": 26,
      "outputs": [
        {
          "output_type": "execute_result",
          "data": {
            "text/plain": [
              "array([[[ 1,  2,  0],\n",
              "        [ 4,  5,  0]],\n",
              "\n",
              "       [[ 7,  8,  0],\n",
              "        [10, 11,  0]]])"
            ]
          },
          "metadata": {},
          "execution_count": 26
        }
      ]
    },
    {
      "cell_type": "markdown",
      "source": [
        "##All  Different Types of Arrays"
      ],
      "metadata": {
        "id": "RSZXbroY1JdM"
      }
    },
    {
      "cell_type": "markdown",
      "source": [
        "###All 0's Matrix"
      ],
      "metadata": {
        "id": "OytRXtsJ1QsM"
      }
    },
    {
      "cell_type": "code",
      "source": [
        "e = np.zeros((4,3,2), dtype='int32')\n",
        "print(e)"
      ],
      "metadata": {
        "colab": {
          "base_uri": "https://localhost:8080/"
        },
        "id": "JzUPMmLh1Pka",
        "outputId": "37a5b7f4-227c-47d6-fe16-7179acb5f0ce"
      },
      "execution_count": 44,
      "outputs": [
        {
          "output_type": "stream",
          "name": "stdout",
          "text": [
            "[[[0 0]\n",
            "  [0 0]\n",
            "  [0 0]]\n",
            "\n",
            " [[0 0]\n",
            "  [0 0]\n",
            "  [0 0]]\n",
            "\n",
            " [[0 0]\n",
            "  [0 0]\n",
            "  [0 0]]\n",
            "\n",
            " [[0 0]\n",
            "  [0 0]\n",
            "  [0 0]]]\n"
          ]
        }
      ]
    },
    {
      "cell_type": "code",
      "source": [
        "e.ndim"
      ],
      "metadata": {
        "colab": {
          "base_uri": "https://localhost:8080/"
        },
        "id": "7Qfe2Uo_18D-",
        "outputId": "b83d407a-a169-43ca-fd9f-c42f50d13741"
      },
      "execution_count": 43,
      "outputs": [
        {
          "output_type": "execute_result",
          "data": {
            "text/plain": [
              "3"
            ]
          },
          "metadata": {},
          "execution_count": 43
        }
      ]
    },
    {
      "cell_type": "markdown",
      "source": [
        "###All 1's Matrix"
      ],
      "metadata": {
        "id": "LH0iK-Uy2uFX"
      }
    },
    {
      "cell_type": "code",
      "source": [
        "f = np.ones((2,3,2), dtype='int32')\n",
        "print(f)"
      ],
      "metadata": {
        "colab": {
          "base_uri": "https://localhost:8080/"
        },
        "id": "AG-B21fr2wvD",
        "outputId": "6fc1687f-5b62-43b2-9f2b-3e38ac250192"
      },
      "execution_count": 49,
      "outputs": [
        {
          "output_type": "stream",
          "name": "stdout",
          "text": [
            "[[[1 1]\n",
            "  [1 1]\n",
            "  [1 1]]\n",
            "\n",
            " [[1 1]\n",
            "  [1 1]\n",
            "  [1 1]]]\n"
          ]
        }
      ]
    },
    {
      "cell_type": "code",
      "source": [
        "f.ndim"
      ],
      "metadata": {
        "colab": {
          "base_uri": "https://localhost:8080/"
        },
        "id": "uaiHY8bR3FGa",
        "outputId": "f3822b65-0fe9-406d-a869-75f817587005"
      },
      "execution_count": 50,
      "outputs": [
        {
          "output_type": "execute_result",
          "data": {
            "text/plain": [
              "3"
            ]
          },
          "metadata": {},
          "execution_count": 50
        }
      ]
    },
    {
      "cell_type": "markdown",
      "source": [
        "###Any other Matrix Create --> full method ((number_of_matrix or dimension),value)"
      ],
      "metadata": {
        "id": "2YKDWE3l3ZSw"
      }
    },
    {
      "cell_type": "code",
      "source": [
        "g = np.full((3,3),10)\n",
        "print(g)"
      ],
      "metadata": {
        "colab": {
          "base_uri": "https://localhost:8080/"
        },
        "id": "8PqFmrNP3uS5",
        "outputId": "b854663f-5bf7-4774-892f-2c0474444dd8"
      },
      "execution_count": 52,
      "outputs": [
        {
          "output_type": "stream",
          "name": "stdout",
          "text": [
            "[[10 10 10]\n",
            " [10 10 10]\n",
            " [10 10 10]]\n"
          ]
        }
      ]
    },
    {
      "cell_type": "markdown",
      "source": [
        "###Any other number like --> full_like method (variable, value)"
      ],
      "metadata": {
        "id": "Y1d_XvI04W4f"
      }
    },
    {
      "cell_type": "code",
      "source": [
        "h = np.full_like(c, 1)\n",
        "print(h)"
      ],
      "metadata": {
        "colab": {
          "base_uri": "https://localhost:8080/"
        },
        "id": "sZEjEXXG4vY7",
        "outputId": "5f20af95-fab4-41ac-9c7b-bc8fe8002a05"
      },
      "execution_count": 54,
      "outputs": [
        {
          "output_type": "stream",
          "name": "stdout",
          "text": [
            "[[1 1 1 1 1 1 1]\n",
            " [1 1 1 1 1 1 1]]\n"
          ]
        }
      ]
    },
    {
      "cell_type": "markdown",
      "source": [
        "###Random Decimal Numbers"
      ],
      "metadata": {
        "id": "LpAsYmVD5EqC"
      }
    },
    {
      "cell_type": "code",
      "source": [
        "i = np.random.rand(3,3)\n",
        "print(i)"
      ],
      "metadata": {
        "colab": {
          "base_uri": "https://localhost:8080/"
        },
        "id": "jILDd1AG5JO_",
        "outputId": "c828cede-93eb-43ab-b88f-62626c715e1b"
      },
      "execution_count": 60,
      "outputs": [
        {
          "output_type": "stream",
          "name": "stdout",
          "text": [
            "[[0.54878812 0.47731931 0.55062178]\n",
            " [0.89796986 0.96143643 0.15730864]\n",
            " [0.22348762 0.31370735 0.02354584]]\n"
          ]
        }
      ]
    },
    {
      "cell_type": "code",
      "source": [
        "j = np.random.random_sample(c.shape)\n",
        "print(j)"
      ],
      "metadata": {
        "colab": {
          "base_uri": "https://localhost:8080/"
        },
        "id": "305Wwi0-5vqu",
        "outputId": "09352e26-6a9d-4739-f31b-6850d255541b"
      },
      "execution_count": 61,
      "outputs": [
        {
          "output_type": "stream",
          "name": "stdout",
          "text": [
            "[[0.19982951 0.62967914 0.12467048 0.03394525 0.07639077 0.65107999\n",
            "  0.16901841]\n",
            " [0.51616571 0.75296722 0.4070767  0.62972582 0.07784153 0.08416515\n",
            "  0.12063687]]\n"
          ]
        }
      ]
    },
    {
      "cell_type": "markdown",
      "source": [
        "###Random Integer Numbers"
      ],
      "metadata": {
        "id": "BmD9hapI6Dlp"
      }
    },
    {
      "cell_type": "code",
      "source": [
        "k = np.random.randint(1, 9, size=(3,3))\n",
        "print(k)"
      ],
      "metadata": {
        "colab": {
          "base_uri": "https://localhost:8080/"
        },
        "id": "R6GUCPY56Hsd",
        "outputId": "b9b78ddc-ec8d-41ef-a102-c0b7997e6836"
      },
      "execution_count": 64,
      "outputs": [
        {
          "output_type": "stream",
          "name": "stdout",
          "text": [
            "[[7 5 8]\n",
            " [2 7 2]\n",
            " [5 1 7]]\n"
          ]
        }
      ]
    },
    {
      "cell_type": "markdown",
      "source": [
        "###Identity Matrix"
      ],
      "metadata": {
        "id": "MLfSXmId65Bm"
      }
    },
    {
      "cell_type": "code",
      "source": [
        "l = np.identity(5, dtype='int32')\n",
        "print(l)"
      ],
      "metadata": {
        "colab": {
          "base_uri": "https://localhost:8080/"
        },
        "id": "SUmuYTTX679G",
        "outputId": "87cd8410-61e2-4b3f-802a-f68c931f36eb"
      },
      "execution_count": 68,
      "outputs": [
        {
          "output_type": "stream",
          "name": "stdout",
          "text": [
            "[[1 0 0 0 0]\n",
            " [0 1 0 0 0]\n",
            " [0 0 1 0 0]\n",
            " [0 0 0 1 0]\n",
            " [0 0 0 0 1]]\n"
          ]
        }
      ]
    }
  ]
}